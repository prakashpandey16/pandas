{
 "cells": [
  {
   "cell_type": "code",
   "execution_count": 1,
   "id": "ed2cafdc-17a6-44f4-9f8b-9cb8db0dca64",
   "metadata": {},
   "outputs": [],
   "source": [
    "import  numpy as np\n"
   ]
  },
  {
   "cell_type": "code",
   "execution_count": 7,
   "id": "c9525928-e4fa-49de-a593-1ae02a0278b7",
   "metadata": {},
   "outputs": [
    {
     "name": "stdout",
     "output_type": "stream",
     "text": [
      "[3 7 9 6 4]\n"
     ]
    }
   ],
   "source": [
    "arr = np.array([1,4,5,3,2])\n",
    "brr = np.array([2,3,4,3,2])\n",
    "# crr = arr+brr\n",
    "# print(crr)\n",
    "crr = np.add(arr,brr)\n",
    "print(crr)"
   ]
  },
  {
   "cell_type": "code",
   "execution_count": 11,
   "id": "bb14490f-c521-4873-8d13-783c65651abc",
   "metadata": {},
   "outputs": [
    {
     "name": "stdout",
     "output_type": "stream",
     "text": [
      "[-1  1  1  0  0]\n"
     ]
    }
   ],
   "source": [
    "arr = np.array([1,4,5,3,2])\n",
    "brr = np.array([2,3,4,3,2])\n",
    "crr = np.subtract(arr,brr)\n",
    "print(crr)"
   ]
  },
  {
   "cell_type": "code",
   "execution_count": 9,
   "id": "054b328e-e6b9-424a-b800-184e04f2b81f",
   "metadata": {},
   "outputs": [
    {
     "name": "stdout",
     "output_type": "stream",
     "text": [
      "[ 2 12 20  9  4]\n"
     ]
    }
   ],
   "source": [
    "arr = np.array([1,4,5,3,2])\n",
    "brr = np.array([2,3,4,3,2])\n",
    "# crr = arr*brr\n",
    "# print(crr)\n",
    "crr = np.multiply(arr,brr)\n",
    "print(crr)\n"
   ]
  },
  {
   "cell_type": "code",
   "execution_count": 12,
   "id": "ec523d49-d4d3-40ed-9c9c-1c0dbbdb8144",
   "metadata": {},
   "outputs": [
    {
     "name": "stdout",
     "output_type": "stream",
     "text": [
      "[0.5        1.33333333 1.25       1.         1.        ]\n"
     ]
    }
   ],
   "source": [
    "arr = np.array([1,4,5,3,2])\n",
    "brr = np.array([2,3,4,3,2])\n",
    "crr = np.divide(arr,brr)\n",
    "print(crr)"
   ]
  },
  {
   "cell_type": "code",
   "execution_count": 17,
   "id": "ddc44c8e-0b76-4ecc-bb1e-6a1ffeced6ca",
   "metadata": {},
   "outputs": [
    {
     "name": "stdout",
     "output_type": "stream",
     "text": [
      "[[ 50  60]\n",
      " [114 140]]\n"
     ]
    }
   ],
   "source": [
    "# matrix mutliplications\n",
    "arr = [[1,2,3,4],\n",
    "       [5,6,7,8]]\n",
    "brr = [[1,2],\n",
    "      [3,4],\n",
    "       [5,6],\n",
    "       [7,8]]\n",
    "\n",
    "crr = np.dot(arr,brr)\n",
    "print(crr)"
   ]
  }
 ],
 "metadata": {
  "kernelspec": {
   "display_name": "Python 3 (ipykernel)",
   "language": "python",
   "name": "python3"
  },
  "language_info": {
   "codemirror_mode": {
    "name": "ipython",
    "version": 3
   },
   "file_extension": ".py",
   "mimetype": "text/x-python",
   "name": "python",
   "nbconvert_exporter": "python",
   "pygments_lexer": "ipython3",
   "version": "3.13.1"
  }
 },
 "nbformat": 4,
 "nbformat_minor": 5
}
