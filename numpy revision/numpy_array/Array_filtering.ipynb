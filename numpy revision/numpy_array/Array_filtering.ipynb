{
 "cells": [
  {
   "cell_type": "code",
   "execution_count": 12,
   "id": "a4e61a9d-5f00-4c1e-b48c-45fe5555cb3d",
   "metadata": {},
   "outputs": [],
   "source": [
    "import numpy as np"
   ]
  },
  {
   "cell_type": "code",
   "execution_count": null,
   "id": "e7408fa1-f215-4c3e-9693-2a5c75c8f637",
   "metadata": {},
   "outputs": [],
   "source": [
    "arr = np.array([1,2,3,3,3,4,5,4,42,42,33,113,33])"
   ]
  },
  {
   "cell_type": "code",
   "execution_count": 3,
   "id": "44f5fd09-8609-4047-8af7-e9df57854bf9",
   "metadata": {},
   "outputs": [
    {
     "name": "stdout",
     "output_type": "stream",
     "text": [
      "[  1   2   3   4   5  33  42 113]\n"
     ]
    }
   ],
   "source": [
    "# print unique elements of array\n",
    "arr = np.array([1,2,3,3,3,4,5,4,42,42,33,113,33])\n",
    "print(np.unique(arr))"
   ]
  },
  {
   "cell_type": "code",
   "execution_count": 16,
   "id": "5b34a2cd-64d5-4f4d-929a-49bd2b95d545",
   "metadata": {},
   "outputs": [
    {
     "name": "stdout",
     "output_type": "stream",
     "text": [
      "Original array: [ 1.  4.  2. nan  8. nan]\n",
      "Is NaN present?: [False False False  True False  True]\n"
     ]
    }
   ],
   "source": [
    "import numpy as np  # Import NumPy\n",
    "\n",
    "# Create an array with NaN values\n",
    "arr = np.array([1, 4, 2, np.nan, 8, np.nan])\n",
    "\n",
    "# Print the original array\n",
    "print(\"Original array:\", arr)\n",
    "\n",
    "# Check for NaN values\n",
    "result = np.isnan(arr)  # Returns a boolean array\n",
    "\n",
    "# Print the result\n",
    "print(\"Is NaN present?:\", result)\n"
   ]
  },
  {
   "cell_type": "code",
   "execution_count": 20,
   "id": "06906fa4-fb63-4b5d-ab05-c85f9d20f7e4",
   "metadata": {},
   "outputs": [
    {
     "name": "stdout",
     "output_type": "stream",
     "text": [
      "[ 1 10  4  5 19 29 45 35 23 43]\n",
      "[  1  10   4   5  19 100 100 100 100 100]\n"
     ]
    }
   ],
   "source": [
    "# filtering an array with where clause\n",
    "arr = np.array([1,10,4,5,19,29,45,35,23,43])\n",
    "print(arr)\n",
    "new_arr = np.where(arr>20,100,arr)\n",
    "print(new_arr)"
   ]
  },
  {
   "cell_type": "code",
   "execution_count": 25,
   "id": "e46763a7-9800-4db4-9612-edabb9cad528",
   "metadata": {},
   "outputs": [
    {
     "name": "stdout",
     "output_type": "stream",
     "text": [
      "(array([1, 2, 6, 7, 9]),)\n"
     ]
    }
   ],
   "source": [
    "# print indices of  even elements of array\n",
    "arr = np.array([1,10,4,5,19,29,46,34,23,42])\n",
    "even_indices = np.where(arr%2==0)\n",
    "print(even_indices)"
   ]
  },
  {
   "cell_type": "code",
   "execution_count": 26,
   "id": "d1e1fae1-1b88-4311-91ef-9e0e6d2f6643",
   "metadata": {},
   "outputs": [
    {
     "name": "stdout",
     "output_type": "stream",
     "text": [
      "(array([0, 3, 4, 5, 8]),)\n"
     ]
    }
   ],
   "source": [
    "# # print indices of  odd elements of array\n",
    "arr = np.array([1,10,4,5,19,29,46,34,23,42])\n",
    "even_indices = np.where(arr%2!=0)\n",
    "\n",
    "print(even_indices)"
   ]
  },
  {
   "cell_type": "code",
   "execution_count": 28,
   "id": "012dfccf-bd78-4042-b936-1d9821734e41",
   "metadata": {},
   "outputs": [
    {
     "name": "stdout",
     "output_type": "stream",
     "text": [
      "[1. 0. 2. 0. 3. 4. 0. 5. 6. 0.]\n"
     ]
    }
   ],
   "source": [
    "# replacing NaN numbers with 0\n",
    "arr = np.array([1, np.nan, 2, np.nan, 3, 4, np.nan, 5, 6, np.nan])\n",
    "arr = np.where(np.isnan(arr),0,arr)\n",
    "print(arr)"
   ]
  },
  {
   "cell_type": "code",
   "execution_count": 37,
   "id": "8eb5a9ca-a118-499d-aba1-f58dec5ab271",
   "metadata": {},
   "outputs": [
    {
     "name": "stdout",
     "output_type": "stream",
     "text": [
      "[[ 1  2  3  4]\n",
      " [ 8  8  8  8]\n",
      " [ 8  9 10 11]]\n"
     ]
    }
   ],
   "source": [
    "# Creating a 2D NumPy array (matrix)\n",
    "matrix = np.array([[1, 2, 3, 4],  \n",
    "                   [100, 50, 45, 56],  \n",
    "                   [8, 9, 10, 11]])  \n",
    "\n",
    "# Using np.where() to replace values greater than 40 with 8\n",
    "# If a value in 'matrix' is greater than 40, it is replaced with 8, otherwise, it remains the same\n",
    "new_matrix = np.where(matrix > 40, 8, matrix)  \n",
    "\n",
    "# Printing the modified matrix\n",
    "print(new_matrix)  "
   ]
  }
 ],
 "metadata": {
  "kernelspec": {
   "display_name": "Python 3 (ipykernel)",
   "language": "python",
   "name": "python3"
  },
  "language_info": {
   "codemirror_mode": {
    "name": "ipython",
    "version": 3
   },
   "file_extension": ".py",
   "mimetype": "text/x-python",
   "name": "python",
   "nbconvert_exporter": "python",
   "pygments_lexer": "ipython3",
   "version": "3.13.1"
  }
 },
 "nbformat": 4,
 "nbformat_minor": 5
}
