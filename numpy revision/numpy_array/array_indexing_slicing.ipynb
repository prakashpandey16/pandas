{
 "cells": [
  {
   "cell_type": "code",
   "execution_count": 1,
   "id": "697728f9-9661-43d1-b0ec-7217b3ca481b",
   "metadata": {},
   "outputs": [],
   "source": [
    "import numpy as np"
   ]
  },
  {
   "cell_type": "code",
   "execution_count": 4,
   "id": "5ecc0cfb-dc34-46f6-a77e-8c082589b357",
   "metadata": {},
   "outputs": [
    {
     "name": "stdout",
     "output_type": "stream",
     "text": [
      "[  1  10  20  13  23  43 323  42  33  87  45 332  32]\n",
      "1\n",
      "int64\n"
     ]
    }
   ],
   "source": [
    "arr = np.array([1,10,20,13,23,43,323,42,33,87,45,332,32])\n",
    "print(arr)\n",
    "print(arr.ndim)\n",
    "print(arr.dtype)"
   ]
  },
  {
   "cell_type": "code",
   "execution_count": 9,
   "id": "71c61008-be77-41b2-9670-db5399ddfb9e",
   "metadata": {},
   "outputs": [
    {
     "name": "stdout",
     "output_type": "stream",
     "text": [
      "13\n",
      "45\n",
      "45\n",
      "33\n"
     ]
    }
   ],
   "source": [
    "arr = np.array([1,10,20,13,23,43,323,42,33,87,45,332,32])\n",
    "# indexing \n",
    "print(arr[3])\n",
    "print(arr[10])\n",
    "print(arr[-3])\n",
    "print(arr[8])\n",
    "\n"
   ]
  },
  {
   "cell_type": "code",
   "execution_count": 17,
   "id": "18fba821-2d11-4cf1-ba33-786580bf9574",
   "metadata": {},
   "outputs": [
    {
     "name": "stdout",
     "output_type": "stream",
     "text": [
      "[ 10  20  13  23  43 323  42  33  87]\n",
      "[ 1 10 20 13]\n",
      "[  1  10  20  13  23  43 323  42  33  87  45 332  32]\n",
      "[  1  10  20  13  23  43 323  42  33  87  45 332  32]\n",
      "[ 33  87  45 332]\n",
      "[ 13  23  43 323  42  33  87  45 332  32]\n"
     ]
    }
   ],
   "source": [
    "# slicing \n",
    "arr = np.array([1,10,20,13,23,43,323,42,33,87,45,332,32])\n",
    "print(arr[1:10])\n",
    "print(arr[0:4])\n",
    "print(arr[0:])\n",
    "print(arr[:len(arr)+1])\n",
    "print(arr[-5:-1])\n",
    "print(arr[-10:])\n"
   ]
  },
  {
   "cell_type": "code",
   "execution_count": null,
   "id": "288679aa-2656-49a9-aac7-88ca6b1aa4f5",
   "metadata": {},
   "outputs": [],
   "source": []
  },
  {
   "cell_type": "code",
   "execution_count": null,
   "id": "6b21277d-b2d1-4c76-8558-5c3e9be7274f",
   "metadata": {},
   "outputs": [],
   "source": []
  },
  {
   "cell_type": "code",
   "execution_count": null,
   "id": "963f4db5-2801-4762-88ab-5f0631d5c4ce",
   "metadata": {},
   "outputs": [],
   "source": []
  },
  {
   "cell_type": "code",
   "execution_count": null,
   "id": "292da0b4-b097-4ed5-bb58-a5ec3591d2f3",
   "metadata": {},
   "outputs": [],
   "source": []
  }
 ],
 "metadata": {
  "kernelspec": {
   "display_name": "Python 3 (ipykernel)",
   "language": "python",
   "name": "python3"
  },
  "language_info": {
   "codemirror_mode": {
    "name": "ipython",
    "version": 3
   },
   "file_extension": ".py",
   "mimetype": "text/x-python",
   "name": "python",
   "nbconvert_exporter": "python",
   "pygments_lexer": "ipython3",
   "version": "3.13.1"
  }
 },
 "nbformat": 4,
 "nbformat_minor": 5
}
