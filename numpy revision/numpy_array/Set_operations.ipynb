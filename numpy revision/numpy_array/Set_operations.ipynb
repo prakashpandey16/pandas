{
 "cells": [
  {
   "cell_type": "code",
   "execution_count": 1,
   "id": "6193de16-f696-4952-8b38-cbd371ac6988",
   "metadata": {},
   "outputs": [],
   "source": [
    "import numpy as np"
   ]
  },
  {
   "cell_type": "code",
   "execution_count": 3,
   "id": "9e1fbbba-2966-4441-a4d2-77d96d687e1a",
   "metadata": {},
   "outputs": [],
   "source": [
    "arr = np.array([1,3,2,4,8])\n",
    "brr = np.array([5,6,7,9,10])"
   ]
  },
  {
   "cell_type": "code",
   "execution_count": 7,
   "id": "0e50c922-ddc2-45de-86c5-aa0410b2b3f8",
   "metadata": {},
   "outputs": [
    {
     "name": "stdout",
     "output_type": "stream",
     "text": [
      "[1 3 4]\n"
     ]
    }
   ],
   "source": [
    "# intersections of two array\n",
    "arr = np.array([1,3,2,4,8])\n",
    "brr = np.array([1,3,4,9,10])\n",
    "print(np.intersect1d(arr,brr))"
   ]
  },
  {
   "cell_type": "code",
   "execution_count": 10,
   "id": "7c9edaf7-49f3-4046-89d7-5953a5822bf6",
   "metadata": {},
   "outputs": [
    {
     "name": "stdout",
     "output_type": "stream",
     "text": [
      "[ 1  2  3  4  8  9 10]\n"
     ]
    }
   ],
   "source": [
    "# union of two array\n",
    "arr = np.array([1,3,2,4,8])\n",
    "brr = np.array([1,3,4,9,10])\n",
    "print(np.union1d(arr,brr))"
   ]
  },
  {
   "cell_type": "code",
   "execution_count": 12,
   "id": "b488c3f8-1cea-44de-b5e4-0d206320ce05",
   "metadata": {},
   "outputs": [
    {
     "name": "stdout",
     "output_type": "stream",
     "text": [
      "Elements in arr but not in brr: [2 8]\n",
      "Elements in brr but not in arr: [ 9 10]\n"
     ]
    }
   ],
   "source": [
    "import numpy as np  # Importing NumPy for numerical operations\n",
    "\n",
    "# Define two NumPy arrays\n",
    "arr = np.array([1, 3, 2, 4, 8])  \n",
    "brr = np.array([1, 3, 4, 9, 10])  \n",
    "\n",
    "# Find elements that are in `arr` but NOT in `brr`\n",
    "diff_arr_brr = np.setdiff1d(arr, brr)  \n",
    "print(\"Elements in arr but not in brr:\", diff_arr_brr)  # Output: [2 8]\n",
    "\n",
    "# Find elements that are in `brr` but NOT in `arr`\n",
    "diff_brr_arr = np.setdiff1d(brr, arr)  \n",
    "print(\"Elements in brr but not in arr:\", diff_brr_arr)  # Output: [9 10]\n"
   ]
  },
  {
   "cell_type": "code",
   "execution_count": null,
   "id": "7f136d6a-15b8-415a-8720-e38aebd0afe2",
   "metadata": {},
   "outputs": [],
   "source": []
  },
  {
   "cell_type": "code",
   "execution_count": null,
   "id": "ea6d6afa-ea06-4d2c-9f6d-5ee35ee21e0e",
   "metadata": {},
   "outputs": [],
   "source": []
  }
 ],
 "metadata": {
  "kernelspec": {
   "display_name": "Python 3 (ipykernel)",
   "language": "python",
   "name": "python3"
  },
  "language_info": {
   "codemirror_mode": {
    "name": "ipython",
    "version": 3
   },
   "file_extension": ".py",
   "mimetype": "text/x-python",
   "name": "python",
   "nbconvert_exporter": "python",
   "pygments_lexer": "ipython3",
   "version": "3.13.1"
  }
 },
 "nbformat": 4,
 "nbformat_minor": 5
}
