{
 "cells": [
  {
   "cell_type": "code",
   "execution_count": 1,
   "id": "2c6e8a12-bcfe-4ee1-935e-b92cb2d717ca",
   "metadata": {},
   "outputs": [],
   "source": [
    "import numpy as np"
   ]
  },
  {
   "cell_type": "code",
   "execution_count": 5,
   "id": "f44dfe58-d0d4-44e6-be4c-87bc059861f4",
   "metadata": {},
   "outputs": [],
   "source": [
    "arr = np.array([1,4,3,2,4,32,5,6])"
   ]
  },
  {
   "cell_type": "code",
   "execution_count": 6,
   "id": "4dd976aa-9be5-437e-bb56-29d04e8e1075",
   "metadata": {},
   "outputs": [
    {
     "name": "stdout",
     "output_type": "stream",
     "text": [
      "57\n"
     ]
    }
   ],
   "source": [
    "arr = np.array([1,4,3,2,4,32,5,6])\n",
    "print(arr.sum())"
   ]
  },
  {
   "cell_type": "code",
   "execution_count": 13,
   "id": "17efccb4-b532-4596-af29-ce74b862478e",
   "metadata": {},
   "outputs": [
    {
     "name": "stdout",
     "output_type": "stream",
     "text": [
      "7.125\n",
      "7.125\n"
     ]
    }
   ],
   "source": [
    "arr = np.array([1,4,3,2,4,32,5,6])\n",
    "print(arr.mean())\n",
    "print(np.mean(arr))"
   ]
  },
  {
   "cell_type": "code",
   "execution_count": 14,
   "id": "fc3b7aa1-7334-47b4-82fd-f7e908193dab",
   "metadata": {},
   "outputs": [
    {
     "name": "stdout",
     "output_type": "stream",
     "text": [
      "4.0\n"
     ]
    }
   ],
   "source": [
    "arr = np.array([1,4,3,2,4,32,5,6])\n",
    "print(np.median(arr))\n",
    "\n"
   ]
  },
  {
   "cell_type": "code",
   "execution_count": 15,
   "id": "9ac5552f-dd48-4b8f-be74-9e2e7a61558d",
   "metadata": {},
   "outputs": [
    {
     "name": "stdout",
     "output_type": "stream",
     "text": [
      "9.518895681747962\n"
     ]
    }
   ],
   "source": [
    "arr = np.array([1,4,3,2,4,32,5,6])\n",
    "print(np.std(arr))"
   ]
  },
  {
   "cell_type": "code",
   "execution_count": 16,
   "id": "7cbb3be4-1d53-4d31-8b78-76902da2c145",
   "metadata": {},
   "outputs": [
    {
     "name": "stdout",
     "output_type": "stream",
     "text": [
      "90.609375\n"
     ]
    }
   ],
   "source": [
    "arr = np.array([1,4,3,2,4,32,5,6])\n",
    "print(np.var(arr))"
   ]
  },
  {
   "cell_type": "code",
   "execution_count": 17,
   "id": "af519cb3-7e06-40a9-9573-a88e44708563",
   "metadata": {},
   "outputs": [
    {
     "name": "stdout",
     "output_type": "stream",
     "text": [
      "32\n",
      "1\n"
     ]
    }
   ],
   "source": [
    "arr = np.array([1,4,3,2,4,32,5,6])\n",
    "print(np.max(arr))\n",
    "print(np.min(arr))"
   ]
  },
  {
   "cell_type": "code",
   "execution_count": 19,
   "id": "94a3a89f-d5ed-40e1-b08c-28d0cfda6819",
   "metadata": {},
   "outputs": [
    {
     "name": "stdout",
     "output_type": "stream",
     "text": [
      "5\n",
      "0\n"
     ]
    }
   ],
   "source": [
    "arr = np.array([1,4,3,2,4,32,5,6])\n",
    "print(np.argmax(arr))\n",
    "print(np.argmin(arr))"
   ]
  },
  {
   "cell_type": "code",
   "execution_count": 20,
   "id": "d08ed601-b3bf-4979-aeb2-888e87077679",
   "metadata": {},
   "outputs": [
    {
     "name": "stdout",
     "output_type": "stream",
     "text": [
      "[ 1  5  8 10 14 46 51 57]\n"
     ]
    }
   ],
   "source": [
    "arr = np.array([1,4,3,2,4,32,5,6])\n",
    "print(np.cumsum(arr))"
   ]
  },
  {
   "cell_type": "code",
   "execution_count": null,
   "id": "256d14ec-e857-4618-bfc4-e423855af3aa",
   "metadata": {},
   "outputs": [],
   "source": []
  }
 ],
 "metadata": {
  "kernelspec": {
   "display_name": "Python 3 (ipykernel)",
   "language": "python",
   "name": "python3"
  },
  "language_info": {
   "codemirror_mode": {
    "name": "ipython",
    "version": 3
   },
   "file_extension": ".py",
   "mimetype": "text/x-python",
   "name": "python",
   "nbconvert_exporter": "python",
   "pygments_lexer": "ipython3",
   "version": "3.13.1"
  }
 },
 "nbformat": 4,
 "nbformat_minor": 5
}
