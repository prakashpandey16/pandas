{
 "cells": [
  {
   "cell_type": "code",
   "execution_count": 1,
   "id": "0c7a98e8-9d29-48bc-b160-82a34862d4ff",
   "metadata": {},
   "outputs": [],
   "source": [
    "import numpy as np\n"
   ]
  },
  {
   "cell_type": "code",
   "execution_count": 9,
   "id": "23259a02-c367-47ad-bb18-a2f3e472e192",
   "metadata": {},
   "outputs": [
    {
     "name": "stdout",
     "output_type": "stream",
     "text": [
      "[  1   3  10  11  19  20  35  23 212]\n",
      "int64\n",
      "[  1.   3.  10.  11.  19.  20.  35.  23. 212.]\n",
      "float64\n"
     ]
    }
   ],
   "source": [
    "import numpy as np  # Importing the numpy library\n",
    "\n",
    "# Create a 1D numpy array with integer values\n",
    "arr = np.array([1, 3, 10, 11, 19, 20, 35, 23, 212])\n",
    "\n",
    "# Print the original array\n",
    "print(arr)\n",
    "\n",
    "# Print the data type of the elements in the array\n",
    "print(arr.dtype)\n",
    "\n",
    "# Convert the integer array to a float array using astype()\n",
    "brr = arr.astype(float)\n",
    "\n",
    "# Print the new array (brr) after type conversion\n",
    "print(brr)\n",
    "\n",
    "# Print the data type of the elements in the new array (brr)\n",
    "print(brr.dtype)\n"
   ]
  },
  {
   "cell_type": "code",
   "execution_count": 12,
   "id": "eb540da8-2039-4db3-8fb4-8e18024c8264",
   "metadata": {},
   "outputs": [
    {
     "name": "stdout",
     "output_type": "stream",
     "text": [
      "[10. 20. 30. 40. 50. 60.]\n",
      "float32\n"
     ]
    }
   ],
   "source": [
    "brr = np.array([10,20,30,40,50,60],dtype = \"f\")\n",
    "print(brr)\n",
    "print(brr.dtype)"
   ]
  },
  {
   "cell_type": "code",
   "execution_count": 14,
   "id": "bb1b6200-3927-48df-9988-78d712f00b52",
   "metadata": {},
   "outputs": [
    {
     "name": "stdout",
     "output_type": "stream",
     "text": [
      "<U21\n"
     ]
    }
   ],
   "source": [
    "arr = np.array([\"a\",\"b\",3,4,5])\n",
    "print(arr.dtype)\n",
    "# This is because numpy upcasts the data type to accommodate \n",
    "# both string and integer types, and it chooses dtype='<U21' to store the data as strings"
   ]
  },
  {
   "cell_type": "code",
   "execution_count": null,
   "id": "6eb96602-9db2-447b-a9c6-747cf593720c",
   "metadata": {},
   "outputs": [],
   "source": []
  },
  {
   "cell_type": "code",
   "execution_count": null,
   "id": "b00a3475-8175-4003-98e6-83719a03b65c",
   "metadata": {},
   "outputs": [],
   "source": []
  },
  {
   "cell_type": "code",
   "execution_count": null,
   "id": "aa844d82-b427-44e1-81e1-7b3d8576c05c",
   "metadata": {},
   "outputs": [],
   "source": []
  }
 ],
 "metadata": {
  "kernelspec": {
   "display_name": "Python 3 (ipykernel)",
   "language": "python",
   "name": "python3"
  },
  "language_info": {
   "codemirror_mode": {
    "name": "ipython",
    "version": 3
   },
   "file_extension": ".py",
   "mimetype": "text/x-python",
   "name": "python",
   "nbconvert_exporter": "python",
   "pygments_lexer": "ipython3",
   "version": "3.13.1"
  }
 },
 "nbformat": 4,
 "nbformat_minor": 5
}
