{
 "cells": [
  {
   "cell_type": "code",
   "execution_count": 1,
   "id": "71df9e9e-4691-47c5-b5d7-4ae82ec28a68",
   "metadata": {},
   "outputs": [],
   "source": [
    "import numpy as np"
   ]
  },
  {
   "cell_type": "code",
   "execution_count": 2,
   "id": "313ecf2b-ffa4-4285-982e-bbd975ca3ffa",
   "metadata": {},
   "outputs": [
    {
     "name": "stdout",
     "output_type": "stream",
     "text": [
      "[0. 0. 0. 0. 0. 0. 0. 0. 0. 0. 0. 0. 0. 0. 0. 0. 0. 0. 0. 0.]\n"
     ]
    }
   ],
   "source": [
    "# creating array with only zero values\n",
    "zeros_array = np.zeros(20)\n",
    "print(zeros_array)\n",
    "      "
   ]
  },
  {
   "cell_type": "code",
   "execution_count": 5,
   "id": "4e96bd2f-50d2-4695-9f21-b38fe52a7501",
   "metadata": {},
   "outputs": [
    {
     "name": "stdout",
     "output_type": "stream",
     "text": [
      "[1. 1. 1. 1. 1. 1. 1. 1. 1. 1.]\n",
      "<class 'numpy.ndarray'>\n"
     ]
    }
   ],
   "source": [
    "# creating numpy array with only ones\n",
    "_ones_ = np.ones(10)\n",
    "print(_ones_)\n",
    "print(type(_ones_))"
   ]
  },
  {
   "cell_type": "code",
   "execution_count": 7,
   "id": "7906494a-79fc-4320-a4c8-6823064c71f8",
   "metadata": {},
   "outputs": [
    {
     "name": "stdout",
     "output_type": "stream",
     "text": [
      "[ 0  2  4  6  8 10 12 14]\n"
     ]
    }
   ],
   "source": [
    "# creating a numpy array with a range  np.arange(starts,ends,step)\n",
    "_range_array = np.arange(0,16,2)\n",
    "print(_range_array)"
   ]
  },
  {
   "cell_type": "code",
   "execution_count": 8,
   "id": "b76db55b-13a1-4135-91e5-e808fde00b97",
   "metadata": {},
   "outputs": [
    {
     "name": "stdout",
     "output_type": "stream",
     "text": [
      "[ 1.          3.11111111  5.22222222  7.33333333  9.44444444 11.55555556\n",
      " 13.66666667 15.77777778 17.88888889 20.        ]\n"
     ]
    }
   ],
   "source": [
    "# Create an array of 10 evenly spaced values between 1 and 20\n",
    "_array_ = np.linspace(1, 20, 10)\n",
    "\n",
    "# Print the created array\n",
    "print(_array_)"
   ]
  },
  {
   "cell_type": "code",
   "execution_count": 10,
   "id": "ea1c3e2e-33cd-46ef-a36e-b856053ece79",
   "metadata": {},
   "outputs": [
    {
     "name": "stdout",
     "output_type": "stream",
     "text": [
      "[0.62825278 0.16574054 0.86216193 0.67131878 0.93170471 0.89029799\n",
      " 0.96409668 0.72757905 0.93934585 0.95630817 0.25818024 0.49506952\n",
      " 0.12797693 0.86610294 0.47335328]\n",
      "15\n"
     ]
    }
   ],
   "source": [
    "# creates an array with  interval[0,1) 0 is includes but 1 is excluded\n",
    "_random_array = np.random.random(15)\n",
    "print(_random_array)\n",
    "print(len(_random_array))"
   ]
  },
  {
   "cell_type": "code",
   "execution_count": 11,
   "id": "0248e35a-87cf-4b2c-9d08-0049c7caa5d5",
   "metadata": {},
   "outputs": [
    {
     "name": "stdout",
     "output_type": "stream",
     "text": [
      "[ 0.92775339  0.17733523  0.05583383 -0.26394497  1.23927419]\n"
     ]
    }
   ],
   "source": [
    "import numpy as np  # Importing the numpy library to work with arrays and mathematical functions\n",
    "\n",
    "# Generate 5 random values from a normal distribution\n",
    "# loc = 0: This is the mean of the distribution (the center of the bell curve).\n",
    "# scale = 1: This is the standard deviation, controlling the spread of the values (how wide or narrow the bell curve is).\n",
    "# size = 5: This specifies the number of random values we want to generate. In this case, 5 random numbers.\n",
    "array = np.random.normal(loc=0, scale=1, size=5)\n",
    "\n",
    "# Print the generated random values\n",
    "print(array)\n"
   ]
  },
  {
   "cell_type": "code",
   "execution_count": 17,
   "id": "7df4891c-e42e-48fb-b1a0-eec0860e9b2c",
   "metadata": {},
   "outputs": [
    {
     "name": "stdout",
     "output_type": "stream",
     "text": [
      "[4 9 7 8 5 3 8 9 8 7]\n"
     ]
    }
   ],
   "source": [
    "import numpy as np  # Importing the numpy library for working with arrays and mathematical functions\n",
    "\n",
    "# Generate 10 random integers between 1 and 10 (excluding 10)\n",
    "# np.random.randint(low, high, size):\n",
    "# low = 1: The smallest integer that can be generated (inclusive).\n",
    "# high = 10: The largest integer that can be generated (exclusive).\n",
    "# size = 10: The number of random integers to generate. In this case, we want 10 random integers.\n",
    "array = np.random.randint(1, 10, 10)\n",
    "\n",
    "# Print the generated array of random integers\n",
    "print(array)\n"
   ]
  },
  {
   "cell_type": "code",
   "execution_count": 25,
   "id": "a0cb743b-ee05-4501-aea1-874b8c65a61f",
   "metadata": {},
   "outputs": [
    {
     "name": "stdout",
     "output_type": "stream",
     "text": [
      "[32 19  6  3 10]\n"
     ]
    }
   ],
   "source": [
    "import numpy as np  # Importing the numpy library\n",
    "\n",
    "# Original array from which we will randomly select elements\n",
    "array = [10, 12, 9, 3, 4, 5, 6, 11, 19, 32, 45, 13]\n",
    "\n",
    "# Randomly select 5 elements from the array, without replacement\n",
    "random_array = np.random.choice(array, size=5, replace=False)\n",
    "\n",
    "# Print the randomly selected array\n",
    "print(random_array)\n",
    "\n"
   ]
  },
  {
   "cell_type": "code",
   "execution_count": null,
   "id": "62c00fc6-76aa-4ab5-aed9-1af1ac86f5eb",
   "metadata": {},
   "outputs": [],
   "source": []
  },
  {
   "cell_type": "code",
   "execution_count": null,
   "id": "5a015005-0360-4a91-a32b-0972625a943d",
   "metadata": {},
   "outputs": [],
   "source": []
  },
  {
   "cell_type": "code",
   "execution_count": null,
   "id": "5f4b46a8-6d7f-49d6-8d5a-5699c73edeb3",
   "metadata": {},
   "outputs": [],
   "source": []
  },
  {
   "cell_type": "code",
   "execution_count": null,
   "id": "efbeaf0d-31a5-4ceb-9668-bf708c76ee2d",
   "metadata": {},
   "outputs": [],
   "source": []
  },
  {
   "cell_type": "code",
   "execution_count": null,
   "id": "8892d8b4-e986-40b9-b10a-89231ea07893",
   "metadata": {},
   "outputs": [],
   "source": []
  },
  {
   "cell_type": "code",
   "execution_count": null,
   "id": "37f65955-a1e3-4205-86fe-543ed2728943",
   "metadata": {},
   "outputs": [],
   "source": []
  },
  {
   "cell_type": "code",
   "execution_count": null,
   "id": "be59d0f5-facf-4ef0-9c14-ed7e298713d8",
   "metadata": {},
   "outputs": [],
   "source": []
  },
  {
   "cell_type": "code",
   "execution_count": null,
   "id": "ed7308c7-5a21-42c3-af2f-be8eb000c633",
   "metadata": {},
   "outputs": [],
   "source": []
  }
 ],
 "metadata": {
  "kernelspec": {
   "display_name": "Python 3 (ipykernel)",
   "language": "python",
   "name": "python3"
  },
  "language_info": {
   "codemirror_mode": {
    "name": "ipython",
    "version": 3
   },
   "file_extension": ".py",
   "mimetype": "text/x-python",
   "name": "python",
   "nbconvert_exporter": "python",
   "pygments_lexer": "ipython3",
   "version": "3.13.1"
  }
 },
 "nbformat": 4,
 "nbformat_minor": 5
}
