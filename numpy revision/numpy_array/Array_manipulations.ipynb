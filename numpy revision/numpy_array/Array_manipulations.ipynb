{
 "cells": [
  {
   "cell_type": "code",
   "execution_count": 1,
   "id": "eef76b50-ceeb-4462-864c-6944723cf3e1",
   "metadata": {},
   "outputs": [],
   "source": [
    "import numpy as np"
   ]
  },
  {
   "cell_type": "code",
   "execution_count": 11,
   "id": "e0926a30-5443-4a3f-bb57-c0748a18531c",
   "metadata": {},
   "outputs": [
    {
     "name": "stdout",
     "output_type": "stream",
     "text": [
      "[[ 1  2  3  4]\n",
      " [ 5  6  7  8]\n",
      " [ 9 10 11 12]]\n",
      "2\n"
     ]
    }
   ],
   "source": [
    "import numpy as np  # Importing the numpy library\n",
    "\n",
    "# Create a 1D array with 12 elements\n",
    "arr = np.array([1, 2, 3, 4, 5, 6, 7, 8, 9, 10, 11, 12])\n",
    "\n",
    "# Reshape the array to have 3 rows and 4 columns (3x4 matrix)\n",
    "reshaped_array = arr.reshape((3, 4))\n",
    "\n",
    "# Print the reshaped array\n",
    "print(reshaped_array)\n",
    "\n",
    "# Print the number of dimensions of the reshaped array (ndim)\n",
    "print(reshaped_array.ndim)\n"
   ]
  },
  {
   "cell_type": "code",
   "execution_count": 17,
   "id": "f8c67966-b096-4a02-9dd9-6c3fd8de1044",
   "metadata": {},
   "outputs": [
    {
     "name": "stdout",
     "output_type": "stream",
     "text": [
      "[[1 2 3 4]\n",
      " [5 6 7 8]]\n",
      "2\n",
      "[1 2 3 4 5 6 7 8]\n",
      "1\n"
     ]
    }
   ],
   "source": [
    "import numpy as np\n",
    "\n",
    "# Create a 2D array with shape (2, 4)\n",
    "arr_2d = np.array([[1, 2, 3, 4],\n",
    "                   [5, 6, 7, 8]])\n",
    "\n",
    "# Print the original 2D array\n",
    "print(arr_2d)\n",
    "\n",
    "# Print the number of dimensions of the original 2D array\n",
    "print(arr_2d.ndim)\n",
    "\n",
    "# Flatten the 2D array into a 1D array\n",
    "arr_1D = arr_2d.flatten()\n",
    "\n",
    "# Print the flattened 1D array\n",
    "print(arr_1D)\n",
    "\n",
    "# Print the number of dimensions of the flattened 1D array\n",
    "print(arr_1D.ndim)\n",
    "\n"
   ]
  },
  {
   "cell_type": "code",
   "execution_count": 23,
   "id": "263ccc4d-acc9-4096-a98a-85180242513d",
   "metadata": {},
   "outputs": [
    {
     "name": "stdout",
     "output_type": "stream",
     "text": [
      "[[1 2 3 4]\n",
      " [5 6 7 8]]\n",
      "2\n",
      "[[1 5]\n",
      " [2 6]\n",
      " [3 7]\n",
      " [4 8]]\n",
      "2\n"
     ]
    }
   ],
   "source": [
    "import numpy as np  # Importing numpy library\n",
    "\n",
    "# Create a 2D array with shape (2, 4)\n",
    "arr_2d = np.array([[1, 2, 3, 4],\n",
    "                   [5, 6, 7, 8]])\n",
    "\n",
    "# Print the original 2D array\n",
    "print(arr_2d)\n",
    "\n",
    "# Print the number of dimensions of the original 2D array\n",
    "print(arr_2d.ndim)\n",
    "\n",
    "# Transpose the 2D array (swap rows and columns)\n",
    "transpose_array = arr_2d.transpose()\n",
    "\n",
    "# Print the transposed array\n",
    "print(transpose_array)\n",
    "\n",
    "# Print the number of dimensions of the transposed array\n",
    "print(transpose_array.ndim)\n"
   ]
  },
  {
   "cell_type": "code",
   "execution_count": 28,
   "id": "b9f07f32-6acd-40ed-b17a-df891b20f375",
   "metadata": {},
   "outputs": [
    {
     "name": "stdout",
     "output_type": "stream",
     "text": [
      "[ 1  2  3  4  5  6  7  8  9 10 11 12 13 14 15]\n",
      "[array([1, 2, 3, 4, 5]), array([ 6,  7,  8,  9, 10]), array([11, 12, 13, 14, 15])]\n"
     ]
    }
   ],
   "source": [
    "import numpy as np  # Importing the numpy library\n",
    "\n",
    "# Create a 1D numpy array with 15 elements\n",
    "arr = np.array([1, 2, 3, 4, 5, 6, 7, 8, 9, 10, 11, 12, 13, 14, 15])\n",
    "\n",
    "# Print the original array\n",
    "print(arr)\n",
    "\n",
    "# Split the array into 3 equal-sized sub-arrays\n",
    "# The array has 15 elements, and we want to split it into 3 sub-arrays.\n",
    "split_arrays = np.split(arr, 3)\n",
    "\n",
    "# Print the resulting split arrays\n",
    "print(split_arrays)\n"
   ]
  },
  {
   "cell_type": "code",
   "execution_count": null,
   "id": "80ca7efc-effb-457c-8fdc-457cec705d53",
   "metadata": {},
   "outputs": [],
   "source": []
  }
 ],
 "metadata": {
  "kernelspec": {
   "display_name": "Python 3 (ipykernel)",
   "language": "python",
   "name": "python3"
  },
  "language_info": {
   "codemirror_mode": {
    "name": "ipython",
    "version": 3
   },
   "file_extension": ".py",
   "mimetype": "text/x-python",
   "name": "python",
   "nbconvert_exporter": "python",
   "pygments_lexer": "ipython3",
   "version": "3.13.1"
  }
 },
 "nbformat": 4,
 "nbformat_minor": 5
}
