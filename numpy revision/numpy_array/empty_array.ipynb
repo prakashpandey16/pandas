{
 "cells": [
  {
   "cell_type": "code",
   "execution_count": 1,
   "id": "2a61915c-1a1e-4e94-af32-f5e58e67e5f3",
   "metadata": {},
   "outputs": [],
   "source": [
    "import numpy as np"
   ]
  },
  {
   "cell_type": "code",
   "execution_count": 4,
   "id": "b2e84965-4e47-447c-b795-51ce7804d49b",
   "metadata": {},
   "outputs": [
    {
     "name": "stdout",
     "output_type": "stream",
     "text": [
      "[[1.e-323 0.e+000 0.e+000]\n",
      " [0.e+000 0.e+000 0.e+000]]\n"
     ]
    }
   ],
   "source": [
    "# array with 2x3 dimension \n",
    "empty = np.empty((2,3 ))\n",
    "print(empty)"
   ]
  },
  {
   "cell_type": "code",
   "execution_count": null,
   "id": "829f2086-2c30-4a67-b076-50ed06d6e968",
   "metadata": {},
   "outputs": [],
   "source": []
  },
  {
   "cell_type": "code",
   "execution_count": null,
   "id": "bfdfc440-0f1d-4ac1-8d5a-893c76405f50",
   "metadata": {},
   "outputs": [],
   "source": []
  }
 ],
 "metadata": {
  "kernelspec": {
   "display_name": "Python 3 (ipykernel)",
   "language": "python",
   "name": "python3"
  },
  "language_info": {
   "codemirror_mode": {
    "name": "ipython",
    "version": 3
   },
   "file_extension": ".py",
   "mimetype": "text/x-python",
   "name": "python",
   "nbconvert_exporter": "python",
   "pygments_lexer": "ipython3",
   "version": "3.13.1"
  }
 },
 "nbformat": 4,
 "nbformat_minor": 5
}
